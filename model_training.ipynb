{
 "cells": [
  {
   "cell_type": "code",
   "execution_count": 18,
   "id": "25952985-96e9-4f33-b70f-80de6220451a",
   "metadata": {},
   "outputs": [],
   "source": [
    "import pandas as pd\n",
    "from sklearn.model_selection import train_test_split\n",
    "from sklearn.preprocessing import StandardScaler\n",
    "import torch\n",
    "import torch.nn as nn\n",
    "import matplotlib.pyplot as plt\n",
    "import torch.optim as optim"
   ]
  },
  {
   "cell_type": "markdown",
   "id": "ac7910c6-3bde-484b-adc9-2ff206d3ba42",
   "metadata": {},
   "source": [
    "## Prepping Data"
   ]
  },
  {
   "cell_type": "code",
   "execution_count": 2,
   "id": "b6c5eead-a1d4-4d25-b6ac-691dc561add3",
   "metadata": {},
   "outputs": [],
   "source": [
    "df = pd.read_csv(\"league_matches.csv\")"
   ]
  },
  {
   "cell_type": "code",
   "execution_count": 3,
   "id": "a3bd9ec1-7a11-4695-94d9-bc10caf62cf8",
   "metadata": {},
   "outputs": [],
   "source": [
    "# Dropping items as we wont use that now\n",
    "x = df.drop(columns = ['items','result'], axis = 1)\n",
    "y = df['result']"
   ]
  },
  {
   "cell_type": "code",
   "execution_count": 4,
   "id": "724cc317-69fd-4610-85f4-1dd8d1b5192c",
   "metadata": {},
   "outputs": [],
   "source": [
    "scaler = StandardScaler()"
   ]
  },
  {
   "cell_type": "code",
   "execution_count": 5,
   "id": "60256088-f44b-4ee3-8ce5-8abea54e1444",
   "metadata": {},
   "outputs": [],
   "source": [
    "X_train, X_test, y_train, y_test = train_test_split(x, y, test_size = 0.2)"
   ]
  },
  {
   "cell_type": "code",
   "execution_count": 6,
   "id": "f416f765-ec8c-4eef-9a45-43bedce375f8",
   "metadata": {},
   "outputs": [],
   "source": [
    "X_train = scaler.fit_transform(X_train)\n",
    "X_test = scaler.transform(X_test)\n",
    "\n",
    "X_train = torch.tensor(X_train, dtype=torch.float32)\n",
    "y_train= torch.tensor(y_train.values, dtype=torch.float32).unsqueeze(1)\n",
    "X_test = torch.tensor(X_test, dtype=torch.float32)\n",
    "y_test = torch.tensor(y_test.values, dtype=torch.float32).unsqueeze(1)"
   ]
  },
  {
   "cell_type": "markdown",
   "id": "33f4600d-dd67-4f95-a96c-91743d52c3af",
   "metadata": {},
   "source": [
    "## Creating the model"
   ]
  },
  {
   "cell_type": "markdown",
   "id": "0d88b0d1-0ffd-4c9c-8d49-dea64e51eadc",
   "metadata": {},
   "source": [
    "### Defining model"
   ]
  },
  {
   "cell_type": "code",
   "execution_count": 13,
   "id": "2e71f15d-a38e-4e10-82b2-3f6b09a74a11",
   "metadata": {},
   "outputs": [],
   "source": [
    "class Model(nn.Module):\n",
    "    def __init__(self, input_dim, hidden = 3):\n",
    "        super(Model, self).__init__()\n",
    "        self.linear1 = nn.Linear(input_dim,1)\n",
    "        \n",
    "\n",
    "    def forward(self, x):\n",
    "        x = self.linear1(x)\n",
    "        x = torch.sigmoid(x)\n",
    "        return x"
   ]
  },
  {
   "cell_type": "code",
   "execution_count": 14,
   "id": "c4fc7c88-2f25-4634-b3d5-668e6fe0ce06",
   "metadata": {},
   "outputs": [],
   "source": [
    "input_dim = X_train.shape[1]"
   ]
  },
  {
   "cell_type": "code",
   "execution_count": 15,
   "id": "7d488c37-7155-424b-84f3-b2fd8f4fcf57",
   "metadata": {},
   "outputs": [],
   "source": [
    "model = Model(input_dim)"
   ]
  },
  {
   "cell_type": "code",
   "execution_count": 16,
   "id": "19589b20-696f-4701-a62f-fa91e7b12529",
   "metadata": {},
   "outputs": [],
   "source": [
    "criterion = nn.BCELoss()\n",
    "optimizer = optim.SGD(model.parameters(), lr=0.01, weight_decay = 0.01)"
   ]
  },
  {
   "cell_type": "markdown",
   "id": "f949716e-cfca-4c18-b2ed-0619545c56b9",
   "metadata": {},
   "source": [
    "### Training model"
   ]
  },
  {
   "cell_type": "code",
   "execution_count": 17,
   "id": "96c5cbdb-2070-42d5-9795-d59bad46d941",
   "metadata": {},
   "outputs": [
    {
     "name": "stdout",
     "output_type": "stream",
     "text": [
      "Epoch [100/1000], Loss: 0.5511\n",
      "Epoch [200/1000], Loss: 0.5139\n",
      "Epoch [300/1000], Loss: 0.4905\n",
      "Epoch [400/1000], Loss: 0.4741\n",
      "Epoch [500/1000], Loss: 0.4620\n",
      "Epoch [600/1000], Loss: 0.4526\n",
      "Epoch [700/1000], Loss: 0.4452\n",
      "Epoch [800/1000], Loss: 0.4392\n",
      "Epoch [900/1000], Loss: 0.4344\n",
      "Epoch [1000/1000], Loss: 0.4304\n",
      "Train Accuracy: 0.8361\n",
      "Test Accuracy: 0.8750\n"
     ]
    }
   ],
   "source": [
    "epochs = 1000\n",
    "for epoch in range(epochs):\n",
    "    model.train()\n",
    "    optimizer.zero_grad()\n",
    "    outputs = model(X_train)\n",
    "    loss = criterion(outputs, y_train)\n",
    "    loss.backward()\n",
    "    optimizer.step()\n",
    "\n",
    "    if (epoch+1) % 100 == 0:\n",
    "        print(f'Epoch [{epoch+1}/{epochs}], Loss: {loss.item():.4f}')\n",
    "\n",
    "model.eval()\n",
    "with torch.no_grad():\n",
    "    y_pred_train = model(X_train).detach()\n",
    "    y_pred_test = model(X_test).detach()\n",
    "    \n",
    "train_accuracy = ((y_pred_train > 0.5) == y_train).float().mean()\n",
    "test_accuracy = ((y_pred_test > 0.5) == y_test).float().mean()\n",
    "\n",
    "print(f'Train Accuracy: {train_accuracy:.4f}')\n",
    "print(f'Test Accuracy: {test_accuracy:.4f}')"
   ]
  },
  {
   "cell_type": "markdown",
   "id": "8c52257b-222a-410e-be7e-018f2fa135c2",
   "metadata": {},
   "source": [
    "## Visualizing impact of each feature"
   ]
  },
  {
   "cell_type": "code",
   "execution_count": 23,
   "id": "ba13ec1e-4e5d-46fb-bf63-1bdf58570f42",
   "metadata": {},
   "outputs": [
    {
     "name": "stdout",
     "output_type": "stream",
     "text": [
      "   Feature  Importance\n",
      "2  assists    0.685640\n",
      "4     gold    0.420234\n",
      "0    kills    0.260392\n",
      "5   vision   -0.042811\n",
      "3       cs   -0.317038\n",
      "1   deaths   -1.148409\n"
     ]
    },
    {
     "data": {
      "image/png": "[encoded data removed]",
      "text/plain": [
       "<Figure size 1000x600 with 1 Axes>"
      ]
     },
     "metadata": {},
     "output_type": "display_data"
    }
   ],
   "source": [
    "weights = model.linear1.weight.data.numpy().flatten()\n",
    "features = x.columns\n",
    "\n",
    "feature_importance = pd.DataFrame({'Feature': features, 'Importance': weights})\n",
    "feature_importance = feature_importance.sort_values(by='Importance', ascending=False)\n",
    "\n",
    "print(feature_importance)\n",
    "\n",
    "plt.figure(figsize=(10, 6))\n",
    "plt.bar(feature_importance['Feature'], feature_importance['Importance'])\n",
    "plt.xlabel('Features')\n",
    "plt.ylabel('Importance')\n",
    "plt.title('Feature Importance')\n",
    "plt.show()"
   ]
  },
  {
   "cell_type": "code",
   "execution_count": null,
   "id": "23788b08-6476-4202-8512-bd3e3799ebf0",
   "metadata": {},
   "outputs": [],
   "source": []
  }
 ],
 "metadata": {
  "kernelspec": {
   "display_name": "Python (PyCharm .venv)",
   "language": "python",
   "name": "pycharm-venv"
  },
  "language_info": {
   "codemirror_mode": {
    "name": "ipython",
    "version": 3
   },
   "file_extension": ".py",
   "mimetype": "text/x-python",
   "name": "python",
   "nbconvert_exporter": "python",
   "pygments_lexer": "ipython3",
   "version": "3.12.3"
  }
 },
 "nbformat": 4,
 "nbformat_minor": 5
}
