{
 "cells": [
  {
   "cell_type": "code",
   "execution_count": 1,
   "id": "7bfe3ba2-e154-407b-a6f3-73e79dfe3b12",
   "metadata": {},
   "outputs": [],
   "source": [
    "import bs4\n",
    "from bs4 import BeautifulSoup\n",
    "import requests\n",
    "import pandas as pd\n",
    "from tqdm import tqdm\n",
    "import sys"
   ]
  },
  {
   "cell_type": "code",
   "execution_count": 2,
   "id": "16661835-3cd9-42ec-bdd6-f534f98327d4",
   "metadata": {},
   "outputs": [],
   "source": [
    "headers = {\n",
    "    \"User-Agent\": \"Mozilla/5.0 (Windows NT 10.0; Win64; x64) \"\n",
    "                  \"AppleWebKit/537.36 (KHTML, like Gecko) \"\n",
    "                  \"Chrome/135.0.0.0 Safari/537.36\"\n",
    "}"
   ]
  },
  {
   "cell_type": "markdown",
   "id": "39b8a0aa-4331-48a3-88c6-56fa736e9418",
   "metadata": {},
   "source": [
    "### Enter Details\n",
    "Replace the fields SUMMONER_ID, SUMMONER_REGION and SUMMONER_CHAMPION with what you need\n",
    "#### Summoner ID\n",
    "Usually in the form \"{username}-{tag}\"  \n",
    "Eg: If your Riot ID is Natholiii#BEANS -> Natholiii-BEANS\n",
    "#### Summoner Region\n",
    "Replace SUMMONER_REGION with the code as given in the table\n",
    "| Region    | Code |\n",
    "| -------- | ------- |\n",
    "| Singapore  | sg    |\n",
    "| Japan  | jp    |\n",
    "| North America  | na    |\n",
    "#### Summoner champion\n",
    "Enter the name of the champion in lowercase, ignore any spaces or commas"
   ]
  },
  {
   "cell_type": "code",
   "execution_count": 3,
   "id": "a01d9ea6-3d6d-410d-98bc-54c48473fc6f",
   "metadata": {},
   "outputs": [],
   "source": [
    "SUMMONER_ID = \"Natholiii-BEANS\"\n",
    "SUMMONER_REGION = \"sg\"\n",
    "SUMMONER_CHAMPION = \"leona\""
   ]
  },
  {
   "cell_type": "code",
   "execution_count": 4,
   "id": "aacb8e4d-3ff6-4090-96e5-2a4fd0896b96",
   "metadata": {},
   "outputs": [],
   "source": [
    "page = requests.get(\"https://www.leagueofgraphs.com/summoner/champions/{}/{}/{}\".format(SUMMONER_CHAMPION,SUMMONER_REGION,SUMMONER_ID), headers=headers)"
   ]
  },
  {
   "cell_type": "code",
   "execution_count": 5,
   "id": "cf5b6e2b-f0c4-4291-a472-5cbe605641ad",
   "metadata": {},
   "outputs": [],
   "source": [
    "soup = BeautifulSoup(page.text,\"html.parser\")"
   ]
  },
  {
   "cell_type": "markdown",
   "id": "998949c3-15ee-4ff7-8924-135b99e8e07e",
   "metadata": {},
   "source": [
    "## Explaining Steps|"
   ]
  },
  {
   "cell_type": "markdown",
   "id": "0b98294f-8273-4073-b76f-44345cefbf38",
   "metadata": {
    "jp-MarkdownHeadingCollapsed": true
   },
   "source": [
    "### Navigating to the table with recent games"
   ]
  },
  {
   "cell_type": "markdown",
   "id": "a2180efa-81f8-492d-857c-b702d09f3b3f",
   "metadata": {},
   "source": [
    "body -> {div; id : pageContainer , class : row}} -> {div; id: pageContent} -> {div; id: mainContentSuperContainer}\n",
    "-> {div; id: mainContentContainer} -> {div; id: mainContent} -> {div; class: row summoner_performances}\n",
    "-> {div; class: medium-9 small-24 columns} -> {div; class: box box-padding-10-10 recentGamesBox}\n",
    "-> {table; class: data_table relative recentGamesTable performanceRecentGamesTable}"
   ]
  },
  {
   "cell_type": "code",
   "execution_count": 6,
   "id": "31ae7aaa-a10b-449b-866b-f19d3f0d00d7",
   "metadata": {},
   "outputs": [],
   "source": [
    "pageContainer = soup.body.find(\"div\", attrs = {\"id\":\"pageContainer\",\"class\":\"row\"})"
   ]
  },
  {
   "cell_type": "code",
   "execution_count": 7,
   "id": "759e131d-85d6-40da-80b1-a2d087ded56e",
   "metadata": {},
   "outputs": [],
   "source": [
    "pageContent = pageContainer.find_all(\"div\", attrs = {\"id\":\"pageContent\"})\n",
    "if len(pageContent) == 1:\n",
    "    pageContent = pageContainer.find(\"div\", attrs = {\"id\":\"pageContent\"})\n",
    "else:\n",
    "    print(\"Multiple pageContents found, check for more attributes\")"
   ]
  },
  {
   "cell_type": "code",
   "execution_count": 8,
   "id": "eccfbb04-a747-42c9-8806-6bc0b0d93378",
   "metadata": {},
   "outputs": [],
   "source": [
    "mainContentSuperContainer = pageContent.find_all(\"div\", attrs = {\"id\":\"mainContentSuperContainer\"})\n",
    "if len(mainContentSuperContainer) == 1:\n",
    "    mainContentSuperContainer = pageContainer.find(\"div\", attrs = {\"id\":\"mainContentSuperContainer\"})\n",
    "else:\n",
    "    print(\"Multiple mainContentSuperContainers found, check for more attributes\")"
   ]
  },
  {
   "cell_type": "code",
   "execution_count": 9,
   "id": "e9c7bd69-9a7a-4c14-a360-1bd77e3f841e",
   "metadata": {},
   "outputs": [],
   "source": [
    "mainContentContainer = mainContentSuperContainer.find_all(\"div\", attrs = {\"id\":\"mainContentContainer\"})\n",
    "if len(mainContentContainer) == 1:\n",
    "    mainContentContainer = mainContentSuperContainer.find(\"div\", attrs = {\"id\":\"mainContentContainer\"})\n",
    "else:\n",
    "    print(\"Multiple mainContentContainer found, check for more attributes\")"
   ]
  },
  {
   "cell_type": "code",
   "execution_count": 10,
   "id": "fd221e40-bf5b-42a4-a9b9-7a6419e74132",
   "metadata": {},
   "outputs": [],
   "source": [
    "mainContent = mainContentContainer.find_all(\"div\", attrs = {\"id\":\"mainContent\"})\n",
    "if len(mainContent) == 1:\n",
    "    mainContent = mainContentContainer.find(\"div\", attrs = {\"id\":\"mainContent\"})\n",
    "else:\n",
    "    print(\"Multiple mainContents found, check for more attributes\")"
   ]
  },
  {
   "cell_type": "code",
   "execution_count": 11,
   "id": "7e772e4a-68e3-4c2d-9632-c7da130dc99a",
   "metadata": {},
   "outputs": [],
   "source": [
    "summoner_performances = mainContent.find_all(\"div\", attrs = {\"class\":\"row summoner_performances\"})\n",
    "if len(summoner_performances) == 1:\n",
    "    summoner_performances = mainContent.find(\"div\", attrs = {\"class\":\"row summoner_performances\"})\n",
    "elif len(summoner_performances) == 0:\n",
    "    print(\"None Found\")\n",
    "else:\n",
    "    print(\"Multiple summoner_performances found, check for more attributes\")"
   ]
  },
  {
   "cell_type": "code",
   "execution_count": 12,
   "id": "d670f5e0-ff55-41b1-b0e9-d9759dda2359",
   "metadata": {},
   "outputs": [],
   "source": [
    "recentGamesBox = summoner_performances.find(\"div\", attrs = {\"class\":\"medium-9 small-24 columns\"}).find(\"div\", attrs = {\"class\":\"box box-padding-10-10 recentGamesBox\"})"
   ]
  },
  {
   "cell_type": "code",
   "execution_count": 13,
   "id": "fcbc47c7-2a69-4f2f-81c6-a97b99f255e0",
   "metadata": {},
   "outputs": [],
   "source": [
    "recentGamesTable = recentGamesBox.find(\"table\", attrs = {\"class\":\"data_table relative recentGamesTable performanceRecentGamesTable\"})"
   ]
  },
  {
   "cell_type": "markdown",
   "id": "f8bdd04d-0ee7-4282-976c-7142ffb14462",
   "metadata": {},
   "source": [
    "### Add all games to a list"
   ]
  },
  {
   "cell_type": "markdown",
   "id": "e570da7f-a765-4d62-9560-9a41c045230a",
   "metadata": {},
   "source": [
    "#### Add the containers for the games"
   ]
  },
  {
   "cell_type": "code",
   "execution_count": 14,
   "id": "888f2058-9d2a-4e11-b610-29e596c7351c",
   "metadata": {},
   "outputs": [],
   "source": [
    "# First add 5 most recent games\n",
    "recentGamesList = recentGamesTable.find_all(\"tr\",attrs = {\"class\":\"\"})\n",
    "\n",
    "# Then append the hidden games\n",
    "for game in recentGamesTable.find_all(\"tr\",attrs = {\"class\":\"see_more_hidden\"}):\n",
    "    recentGamesList.append(game)"
   ]
  },
  {
   "cell_type": "markdown",
   "id": "9130d624-0b24-4457-afeb-9dd3c42f5ff8",
   "metadata": {},
   "source": [
    "#### Iterate and add links to each match"
   ]
  },
  {
   "cell_type": "code",
   "execution_count": 15,
   "id": "8fae7735-03b4-4aee-b546-f5d4999c0ea8",
   "metadata": {},
   "outputs": [],
   "source": [
    "# Adding just the last 10\n",
    "number_of_matches = 10\n",
    "hrefs_matches = []\n",
    "\n",
    "for i in range(number_of_matches):\n",
    "    match_link = recentGamesList[i].find(\"td\", attrs = {\"class\":\"resultCellLight text-center\"}).find(\"a\")['href']\n",
    "    hrefs_matches.append(match_link)"
   ]
  },
  {
   "cell_type": "code",
   "execution_count": 16,
   "id": "f96bdbc6-31fb-4d13-b218-6aa075fee47b",
   "metadata": {},
   "outputs": [],
   "source": [
    "links_matches = []\n",
    "for i in range(number_of_matches):\n",
    "    links_matches.append(\"https://www.leagueofgraphs.com/\" + hrefs_matches[i])"
   ]
  },
  {
   "cell_type": "markdown",
   "id": "9c133412-af17-48b5-9060-8d70a45aba33",
   "metadata": {},
   "source": [
    "### Get the stats"
   ]
  },
  {
   "cell_type": "markdown",
   "id": "06ea1023-9cb0-4777-bc9d-9967117bd9de",
   "metadata": {},
   "source": [
    "#### Access a match"
   ]
  },
  {
   "cell_type": "code",
   "execution_count": 17,
   "id": "9bc9602c-96df-487e-8806-0904eb15c36c",
   "metadata": {},
   "outputs": [
    {
     "data": {
      "text/plain": [
       "'https://www.leagueofgraphs.com//match/sg/105737004#participant5'"
      ]
     },
     "execution_count": 17,
     "metadata": {},
     "output_type": "execute_result"
    }
   ],
   "source": [
    "links_matches[0]"
   ]
  },
  {
   "cell_type": "code",
   "execution_count": 18,
   "id": "e13eaf61-7e77-4e13-a293-2f54b56918e9",
   "metadata": {},
   "outputs": [],
   "source": [
    "def return_game_table(match):\n",
    "    game_page = requests.get(match, headers=headers)\n",
    "    gameSoup = BeautifulSoup(game_page.text,\"html.parser\")\n",
    "    gamepageContainer = gameSoup.body.find(\"div\", attrs = {\"id\":\"pageContainer\",\"class\":\"row\"})\n",
    "    gamemainContentSuperContainer = gamepageContainer.find(\"div\", attrs = {\"id\":\"pageContent\"}).find(\"div\", attrs = {\"id\":\"mainContentSuperContainer\"})\n",
    "    gamemainContentContainer = gamemainContentSuperContainer.find(\"div\", attrs = {\"id\":\"mainContent\"})\n",
    "    gameTable = gamemainContentContainer.find(\"table\", attrs = {\"class\":\"data_table matchTable\"})\n",
    "    return gameTable"
   ]
  },
  {
   "cell_type": "code",
   "execution_count": 19,
   "id": "cff09f3a-0338-4440-9a67-96f1a98daf79",
   "metadata": {},
   "outputs": [],
   "source": [
    "gameTable = return_game_table(links_matches[0])"
   ]
  },
  {
   "cell_type": "markdown",
   "id": "41e4a3c4-111a-44f9-8ec5-d4e35cc483ee",
   "metadata": {},
   "source": [
    "#### Find Leona and the opponents from the player list"
   ]
  },
  {
   "cell_type": "code",
   "execution_count": 20,
   "id": "80f2a10e-4f9f-4639-ab00-57c18884d52d",
   "metadata": {},
   "outputs": [],
   "source": [
    "def find_leona(gameTable):\n",
    "    players = gameTable.find_all(\"tr\",attrs = {\"class\":\"playerRow\"})\n",
    "    # Support role will always be last in the list\n",
    "    support_role = players[4]\n",
    "    adc = players[3]\n",
    "    # Is she red or blue side?\n",
    "    left_side = \"text-left summoner_column\"\n",
    "    right_side = \"text-right summoner_column\"\n",
    "    stats = support_role.find_all(\"td\", attrs = {\"class\":\"kdaColumn hide-for-small-down requireTooltip noCursor\"})\n",
    "    champ_title = support_role.find(\"td\",attrs = {\"class\":left_side}).find(\"img\")['title']\n",
    "    other_champ_title = support_role.find(\"td\",attrs = {\"class\":right_side}).find(\"img\")['title']\n",
    "    #Is she on the left (of porofessor)?\n",
    "    if champ_title == 'Leona':\n",
    "        index = 0\n",
    "        side = \"left\"\n",
    "        enemy_sup = other_champ_title\n",
    "        enemy_adc = adc.find(\"td\",attrs = {\"class\":left_side}).find(\"img\")['title']\n",
    "    else:\n",
    "        index = 1\n",
    "        side = \"right\"\n",
    "        enemy_sup = champ_title\n",
    "        enemy_adc = adc.find(\"td\",attrs = {\"class\":right_side}).find(\"img\")['title']\n",
    "    leona_stats = stats[index]\n",
    "    return side, support_role, leona_stats, index, enemy_sup, enemy_adc"
   ]
  },
  {
   "cell_type": "code",
   "execution_count": 21,
   "id": "1c0142a5-803e-46d4-9067-0d1e1b5dd1b1",
   "metadata": {},
   "outputs": [],
   "source": [
    "side, support_role, leona_stats, index, enemy_sup, enemy_adc = find_leona(gameTable)"
   ]
  },
  {
   "cell_type": "markdown",
   "id": "42ac2700-d269-4e32-a1f5-1e007b9cbde4",
   "metadata": {},
   "source": [
    "#### Did you win or lose?"
   ]
  },
  {
   "cell_type": "code",
   "execution_count": 22,
   "id": "a27eb175-962e-4b17-b18a-27f31fda84e4",
   "metadata": {},
   "outputs": [],
   "source": [
    "def match_result(gameTable,side):\n",
    "    if side == \"left\":\n",
    "        _ = gameTable.find(\"th\",attrs = {\"class\":\"text-left no-padding-right\"})\n",
    "    else:\n",
    "        _ = gameTable.find(\"th\",attrs = {\"class\":\"text-right no-padding-left\"})\n",
    "    result = _.find_all(\"span\")\n",
    "    return result"
   ]
  },
  {
   "cell_type": "code",
   "execution_count": 23,
   "id": "d706c67e-23b6-4156-b865-f4898d5c0e71",
   "metadata": {},
   "outputs": [],
   "source": [
    "if match_result(gameTable,side)[0].text.isalpha():\n",
    "    result = match_result(gameTable,side)[0].text\n",
    "else:\n",
    "    result = match_result(gameTable,side)[1].text"
   ]
  },
  {
   "cell_type": "markdown",
   "id": "0c13867d-afda-4941-943f-a570923943f6",
   "metadata": {},
   "source": [
    "#### Get Stats"
   ]
  },
  {
   "cell_type": "code",
   "execution_count": 24,
   "id": "cff69175-c513-4f69-8bb8-1d767849365a",
   "metadata": {},
   "outputs": [],
   "source": [
    "def get_stats(leona_stats):\n",
    "    # Kills, Deaths, Assists\n",
    "    kda = [int(leona_stats.find(\"div\",attrs = {\"class\":\"kda\"}).find('span',attrs = {\"class\":\"kills\"}).text), \n",
    "           int(leona_stats.find(\"div\",attrs = {\"class\":\"kda\"}).find('span',attrs = {\"class\":\"deaths\"}).text),\n",
    "           int(leona_stats.find(\"div\",attrs = {\"class\":\"kda\"}).find('span',attrs = {\"class\":\"assists\"}).text)]\n",
    "\n",
    "    _ = leona_stats.find_all(\"div\",attrs = {\"class\":\"cs\"})\n",
    "\n",
    "    csgold = _[0].text.split('-')\n",
    "    vision = _[1].text.strip().split('-')[1].strip()\n",
    "\n",
    "    cs_gold = [data.strip() for data in csgold]\n",
    "    cs, gold = cs_gold[0],cs_gold[1]\n",
    "    \n",
    "    return kda, cs, gold, vision"
   ]
  },
  {
   "cell_type": "code",
   "execution_count": 25,
   "id": "893074fd-2ff0-4182-8d0d-a4279401ad07",
   "metadata": {},
   "outputs": [],
   "source": [
    "kda, cs, gold, vision = get_stats(leona_stats)"
   ]
  },
  {
   "cell_type": "markdown",
   "id": "bbf74252-b12b-41c5-bc70-b69a963b7077",
   "metadata": {},
   "source": [
    "#### Get Items"
   ]
  },
  {
   "cell_type": "code",
   "execution_count": 26,
   "id": "f598d829-d82e-4850-a676-1aa635202c33",
   "metadata": {},
   "outputs": [],
   "source": [
    "def get_items(support, index):\n",
    "    items = support_role.find(\"td\", attrs = {\"class\":\"itemsColumn itemsColumn-\" + str(index + 1) + \"00\"})\n",
    "    itemlist = [item['alt'] for item in items.find_all(\"img\", attrs = {\"tooltip-class\":\"itemTooltip\"})]\n",
    "    return itemlist"
   ]
  },
  {
   "cell_type": "code",
   "execution_count": 27,
   "id": "9aa5f9d8-4943-4e88-b8fe-364215b6b050",
   "metadata": {},
   "outputs": [],
   "source": [
    "items = get_items(support_role, index)"
   ]
  },
  {
   "cell_type": "markdown",
   "id": "f8d792ab-9618-40c8-b6c2-7ff306461fb7",
   "metadata": {},
   "source": [
    "### Create an excel file to store data"
   ]
  },
  {
   "cell_type": "markdown",
   "id": "b4204b77-2b39-4dd0-bcd3-1220c6e804b8",
   "metadata": {},
   "source": [
    "### Add everything to a dataframe"
   ]
  },
  {
   "cell_type": "code",
   "execution_count": 28,
   "id": "8ece520c-776d-4c59-a156-abbf3a6a60e3",
   "metadata": {},
   "outputs": [],
   "source": [
    "column_names = ['kills','deaths','assists','cs','gold','vision','items','enemy champs','result']\n",
    "dataframe = pd.DataFrame(columns = column_names)"
   ]
  },
  {
   "cell_type": "code",
   "execution_count": 29,
   "id": "cd2c4aeb-b7e2-45d4-83a7-3a53996667c0",
   "metadata": {},
   "outputs": [],
   "source": [
    "if result == \"Defeat\":\n",
    "    game_result = 0\n",
    "else:\n",
    "    game_result = 1"
   ]
  },
  {
   "cell_type": "code",
   "execution_count": 30,
   "id": "697f957d-5331-408f-8a35-bbc2c274cece",
   "metadata": {},
   "outputs": [],
   "source": [
    "gold_earned = gold.split(' ')[0]\n",
    "if 'k' in gold_earned:\n",
    "    gold_int = int(float(gold_earned.split('k')[0]) * 1000)"
   ]
  },
  {
   "cell_type": "code",
   "execution_count": 31,
   "id": "91a1948c-b0ef-4e92-a77b-724c93aa3550",
   "metadata": {},
   "outputs": [],
   "source": [
    " dataframe.loc[len(dataframe)] = [kda[0],kda[1],kda[2],int(cs.split(' ')[0]),gold_int,int(vision.split(' ')[1]),items,[enemy_adc,enemy_sup],game_result]"
   ]
  },
  {
   "cell_type": "code",
   "execution_count": 32,
   "id": "7636a216-6722-4ff1-8317-43a2a28d55e0",
   "metadata": {},
   "outputs": [
    {
     "data": {
      "text/html": [
       "<div>\n",
       "<style scoped>\n",
       "    .dataframe tbody tr th:only-of-type {\n",
       "        vertical-align: middle;\n",
       "    }\n",
       "\n",
       "    .dataframe tbody tr th {\n",
       "        vertical-align: top;\n",
       "    }\n",
       "\n",
       "    .dataframe thead th {\n",
       "        text-align: right;\n",
       "    }\n",
       "</style>\n",
       "<table border=\"1\" class=\"dataframe\">\n",
       "  <thead>\n",
       "    <tr style=\"text-align: right;\">\n",
       "      <th></th>\n",
       "      <th>kills</th>\n",
       "      <th>deaths</th>\n",
       "      <th>assists</th>\n",
       "      <th>cs</th>\n",
       "      <th>gold</th>\n",
       "      <th>vision</th>\n",
       "      <th>result</th>\n",
       "    </tr>\n",
       "  </thead>\n",
       "  <tbody>\n",
       "    <tr>\n",
       "      <th>0</th>\n",
       "      <td>2</td>\n",
       "      <td>4</td>\n",
       "      <td>4</td>\n",
       "      <td>24</td>\n",
       "      <td>5400</td>\n",
       "      <td>36</td>\n",
       "      <td>0</td>\n",
       "    </tr>\n",
       "  </tbody>\n",
       "</table>\n",
       "</div>"
      ],
      "text/plain": [
       "   kills  deaths  assists  cs  gold  vision  result\n",
       "0      2       4        4  24  5400      36       0"
      ]
     },
     "execution_count": 32,
     "metadata": {},
     "output_type": "execute_result"
    }
   ],
   "source": [
    "dataframe"
   ]
  },
  {
   "cell_type": "markdown",
   "id": "6eac3136-3ad2-42d1-8d74-a85bd54e2ecd",
   "metadata": {},
   "source": [
    "## Do it all at once"
   ]
  },
  {
   "cell_type": "code",
   "execution_count": 33,
   "id": "63cc8e5e-df9e-4f26-a1d0-070a140b998e",
   "metadata": {},
   "outputs": [],
   "source": [
    "# First add 5 most recent games\n",
    "recentGamesList = recentGamesTable.find_all(\"tr\",attrs = {\"class\":\"\"})\n",
    "\n",
    "# Then append the hidden games\n",
    "for game in recentGamesTable.find_all(\"tr\",attrs = {\"class\":\"see_more_hidden\"}):\n",
    "    recentGamesList.append(game)"
   ]
  },
  {
   "cell_type": "code",
   "execution_count": 34,
   "id": "f3c0aeac-17ef-4b26-b543-def39a7da159",
   "metadata": {},
   "outputs": [],
   "source": [
    "def return_game_table(match):\n",
    "    game_page = requests.get(match, headers=headers)\n",
    "    gameSoup = BeautifulSoup(game_page.text,\"html.parser\")\n",
    "    gamepageContainer = gameSoup.body.find(\"div\", attrs = {\"id\":\"pageContainer\",\"class\":\"row\"})\n",
    "    gamemainContentSuperContainer = gamepageContainer.find(\"div\", attrs = {\"id\":\"pageContent\"}).find(\"div\", attrs = {\"id\":\"mainContentSuperContainer\"})\n",
    "    gamemainContentContainer = gamemainContentSuperContainer.find(\"div\", attrs = {\"id\":\"mainContent\"})\n",
    "    gameTable = gamemainContentContainer.find(\"table\", attrs = {\"class\":\"data_table matchTable\"})\n",
    "    return gameTable"
   ]
  },
  {
   "cell_type": "code",
   "execution_count": 35,
   "id": "f7b428c9-128c-465e-8a1b-422be35f8f78",
   "metadata": {},
   "outputs": [],
   "source": [
    "def find_leona(gameTable):\n",
    "    players = gameTable.find_all(\"tr\",attrs = {\"class\":\"playerRow\"})\n",
    "    # Support role will always be last in the list\n",
    "    support_role = players[4]\n",
    "    adc = players[3]\n",
    "    # Is she red or blue side?\n",
    "    left_side = \"text-left summoner_column\"\n",
    "    right_side = \"text-right summoner_column\"\n",
    "    stats = support_role.find_all(\"td\", attrs = {\"class\":\"kdaColumn hide-for-small-down requireTooltip noCursor\"})\n",
    "    champ_title = support_role.find(\"td\",attrs = {\"class\":left_side}).find(\"img\")['title']\n",
    "    other_champ_title = support_role.find(\"td\",attrs = {\"class\":right_side}).find(\"img\")['title']\n",
    "    #Is she on the left (of porofessor)?\n",
    "    if champ_title == 'Leona':\n",
    "        index = 0\n",
    "        side = \"left\"\n",
    "        enemy_sup = other_champ_title\n",
    "        enemy_adc = adc.find(\"td\",attrs = {\"class\":left_side}).find(\"img\")['title']\n",
    "    else:\n",
    "        index = 1\n",
    "        side = \"right\"\n",
    "        enemy_sup = champ_title\n",
    "        enemy_adc = adc.find(\"td\",attrs = {\"class\":right_side}).find(\"img\")['title']\n",
    "    leona_stats = stats[index]\n",
    "    return side, support_role, leona_stats, index, enemy_sup, enemy_adc"
   ]
  },
  {
   "cell_type": "code",
   "execution_count": 36,
   "id": "3c783891-a12c-4c4e-975d-744d787c7b44",
   "metadata": {},
   "outputs": [],
   "source": [
    "def match_result(gameTable,side):\n",
    "    if side == \"left\":\n",
    "        _ = gameTable.find(\"th\",attrs = {\"class\":\"text-left no-padding-right\"})\n",
    "    else:\n",
    "        _ = gameTable.find(\"th\",attrs = {\"class\":\"text-right no-padding-left\"})\n",
    "    result = _.find_all(\"span\")\n",
    "    return result"
   ]
  },
  {
   "cell_type": "code",
   "execution_count": 37,
   "id": "0b9ea505-1f00-47e5-b5a2-4ed8de284c12",
   "metadata": {},
   "outputs": [],
   "source": [
    "def get_stats(leona_stats):\n",
    "    # Kills, Deaths, Assists\n",
    "    kda = [int(leona_stats.find(\"div\",attrs = {\"class\":\"kda\"}).find('span',attrs = {\"class\":\"kills\"}).text), \n",
    "           int(leona_stats.find(\"div\",attrs = {\"class\":\"kda\"}).find('span',attrs = {\"class\":\"deaths\"}).text),\n",
    "           int(leona_stats.find(\"div\",attrs = {\"class\":\"kda\"}).find('span',attrs = {\"class\":\"assists\"}).text)]\n",
    "\n",
    "    _ = leona_stats.find_all(\"div\",attrs = {\"class\":\"cs\"})\n",
    "\n",
    "    csgold = _[0].text.split('-')\n",
    "    vision = _[1].text.strip().split('-')[1].strip()\n",
    "\n",
    "    cs_gold = [data.strip() for data in csgold]\n",
    "    cs, gold = cs_gold[0],cs_gold[1]\n",
    "    \n",
    "    return kda, cs, gold, vision"
   ]
  },
  {
   "cell_type": "code",
   "execution_count": 38,
   "id": "c889596e-88fc-4e24-9bd7-46a399cbdf5a",
   "metadata": {},
   "outputs": [],
   "source": [
    "def get_items(support, index):\n",
    "    items = support.find(\"td\", attrs = {\"class\":\"itemsColumn itemsColumn-\" + str(index + 1) + \"00\"})\n",
    "    itemlist = [item['alt'] for item in items.find_all(\"img\", attrs = {\"tooltip-class\":\"itemTooltip\"})]\n",
    "    return itemlist"
   ]
  },
  {
   "cell_type": "code",
   "execution_count": 39,
   "id": "146bc86e-4385-4d03-b269-c69e0276370b",
   "metadata": {},
   "outputs": [],
   "source": [
    "def create_dataset(recentGames):\n",
    "    links_matches = []\n",
    "    for i in recentGames:\n",
    "        match_link = i.find(\"td\", attrs = {\"class\":\"resultCellLight text-center\"}).find(\"a\")['href']\n",
    "        links_matches.append(\"https://www.leagueofgraphs.com/\" + match_link)\n",
    "    print(\"Match links obtained\")\n",
    "    print(\"Number of matches found: \",len(links_matches))\n",
    "    column_names = ['kills','deaths','assists','cs','gold','vision','items','enemy champs','result']\n",
    "    dataframe = pd.DataFrame(columns = column_names)\n",
    "    i = 1\n",
    "    print(\"Beginning to access matches and add to dataframe\")\n",
    "    for match in tqdm(links_matches):\n",
    "        \n",
    "        gameTable = return_game_table(match)\n",
    "        \n",
    "        side, support_role, leona_stats, index, enemy_sup, enemy_adc = find_leona(gameTable)\n",
    "        \n",
    "        if match_result(gameTable,side)[0].text.isalpha():\n",
    "            result = match_result(gameTable,side)[0].text\n",
    "        else:\n",
    "            result = match_result(gameTable,side)[1].text\n",
    "        kda, cs, gold, vision = get_stats(leona_stats)\n",
    "        \n",
    "        \n",
    "        items = get_items(support_role, index)\n",
    "        \n",
    "        if result == \"Defeat\":\n",
    "            game_result = 0\n",
    "        else:\n",
    "            game_result = 1\n",
    "        gold_earned = gold.split(' ')[0]\n",
    "        if 'k' in gold_earned:\n",
    "            gold_int = int(float(gold_earned.split('k')[0]) * 1000)\n",
    "        dataframe.loc[len(dataframe)] = [kda[0],kda[1],kda[2],int(cs.split(' ')[0]),gold_int,int(vision.split(' ')[1]),items,[enemy_adc,enemy_sup],game_result]\n",
    "        i+=1\n",
    "        \n",
    "    print(\"\\nAdded all matches\")\n",
    "    print(\"Saving data to league_matches.csv\")\n",
    "    dataframe.to_csv(\"league_matches.csv\", index=False)"
   ]
  },
  {
   "cell_type": "code",
   "execution_count": 40,
   "id": "7f0b3a21-785b-41ba-8c10-b6641b383270",
   "metadata": {},
   "outputs": [
    {
     "name": "stdout",
     "output_type": "stream",
     "text": [
      "Match links obtained\n",
      "Number of matches found:  98\n",
      "Beginning to access matches and add to dataframe\n"
     ]
    },
    {
     "name": "stderr",
     "output_type": "stream",
     "text": [
      "  3%|██▌                                                                                | 3/98 [00:10<05:20,  3.38s/it]\n"
     ]
    },
    {
     "ename": "KeyboardInterrupt",
     "evalue": "",
     "output_type": "error",
     "traceback": [
      "\u001b[31m---------------------------------------------------------------------------\u001b[39m",
      "\u001b[31mKeyboardInterrupt\u001b[39m                         Traceback (most recent call last)",
      "\u001b[36mCell\u001b[39m\u001b[36m \u001b[39m\u001b[32mIn[40]\u001b[39m\u001b[32m, line 1\u001b[39m\n\u001b[32m----> \u001b[39m\u001b[32m1\u001b[39m \u001b[43mcreate_dataset\u001b[49m\u001b[43m(\u001b[49m\u001b[43mrecentGamesList\u001b[49m\u001b[43m)\u001b[49m\n",
      "\u001b[36mCell\u001b[39m\u001b[36m \u001b[39m\u001b[32mIn[39]\u001b[39m\u001b[32m, line 14\u001b[39m, in \u001b[36mcreate_dataset\u001b[39m\u001b[34m(recentGames)\u001b[39m\n\u001b[32m     11\u001b[39m \u001b[38;5;28mprint\u001b[39m(\u001b[33m\"\u001b[39m\u001b[33mBeginning to access matches and add to dataframe\u001b[39m\u001b[33m\"\u001b[39m)\n\u001b[32m     12\u001b[39m \u001b[38;5;28;01mfor\u001b[39;00m match \u001b[38;5;129;01min\u001b[39;00m tqdm(links_matches):\n\u001b[32m---> \u001b[39m\u001b[32m14\u001b[39m     gameTable = \u001b[43mreturn_game_table\u001b[49m\u001b[43m(\u001b[49m\u001b[43mmatch\u001b[49m\u001b[43m)\u001b[49m\n\u001b[32m     16\u001b[39m     side, support_role, leona_stats, index, enemy_sup, enemy_adc = find_leona(gameTable)\n\u001b[32m     18\u001b[39m     \u001b[38;5;28;01mif\u001b[39;00m match_result(gameTable,side)[\u001b[32m0\u001b[39m].text.isalpha():\n",
      "\u001b[36mCell\u001b[39m\u001b[36m \u001b[39m\u001b[32mIn[34]\u001b[39m\u001b[32m, line 2\u001b[39m, in \u001b[36mreturn_game_table\u001b[39m\u001b[34m(match)\u001b[39m\n\u001b[32m      1\u001b[39m \u001b[38;5;28;01mdef\u001b[39;00m\u001b[38;5;250m \u001b[39m\u001b[34mreturn_game_table\u001b[39m(match):\n\u001b[32m----> \u001b[39m\u001b[32m2\u001b[39m     game_page = \u001b[43mrequests\u001b[49m\u001b[43m.\u001b[49m\u001b[43mget\u001b[49m\u001b[43m(\u001b[49m\u001b[43mmatch\u001b[49m\u001b[43m,\u001b[49m\u001b[43m \u001b[49m\u001b[43mheaders\u001b[49m\u001b[43m=\u001b[49m\u001b[43mheaders\u001b[49m\u001b[43m)\u001b[49m\n\u001b[32m      3\u001b[39m     gameSoup = BeautifulSoup(game_page.text,\u001b[33m\"\u001b[39m\u001b[33mhtml.parser\u001b[39m\u001b[33m\"\u001b[39m)\n\u001b[32m      4\u001b[39m     gamepageContainer = gameSoup.body.find(\u001b[33m\"\u001b[39m\u001b[33mdiv\u001b[39m\u001b[33m\"\u001b[39m, attrs = {\u001b[33m\"\u001b[39m\u001b[33mid\u001b[39m\u001b[33m\"\u001b[39m:\u001b[33m\"\u001b[39m\u001b[33mpageContainer\u001b[39m\u001b[33m\"\u001b[39m,\u001b[33m\"\u001b[39m\u001b[33mclass\u001b[39m\u001b[33m\"\u001b[39m:\u001b[33m\"\u001b[39m\u001b[33mrow\u001b[39m\u001b[33m\"\u001b[39m})\n",
      "\u001b[36mFile \u001b[39m\u001b[32m~\\PycharmProjects\\MyStuff\\.venv\\Lib\\site-packages\\requests\\api.py:73\u001b[39m, in \u001b[36mget\u001b[39m\u001b[34m(url, params, **kwargs)\u001b[39m\n\u001b[32m     62\u001b[39m \u001b[38;5;28;01mdef\u001b[39;00m\u001b[38;5;250m \u001b[39m\u001b[34mget\u001b[39m(url, params=\u001b[38;5;28;01mNone\u001b[39;00m, **kwargs):\n\u001b[32m     63\u001b[39m \u001b[38;5;250m    \u001b[39m\u001b[33mr\u001b[39m\u001b[33;03m\"\"\"Sends a GET request.\u001b[39;00m\n\u001b[32m     64\u001b[39m \n\u001b[32m     65\u001b[39m \u001b[33;03m    :param url: URL for the new :class:`Request` object.\u001b[39;00m\n\u001b[32m   (...)\u001b[39m\u001b[32m     70\u001b[39m \u001b[33;03m    :rtype: requests.Response\u001b[39;00m\n\u001b[32m     71\u001b[39m \u001b[33;03m    \"\"\"\u001b[39;00m\n\u001b[32m---> \u001b[39m\u001b[32m73\u001b[39m     \u001b[38;5;28;01mreturn\u001b[39;00m \u001b[43mrequest\u001b[49m\u001b[43m(\u001b[49m\u001b[33;43m\"\u001b[39;49m\u001b[33;43mget\u001b[39;49m\u001b[33;43m\"\u001b[39;49m\u001b[43m,\u001b[49m\u001b[43m \u001b[49m\u001b[43murl\u001b[49m\u001b[43m,\u001b[49m\u001b[43m \u001b[49m\u001b[43mparams\u001b[49m\u001b[43m=\u001b[49m\u001b[43mparams\u001b[49m\u001b[43m,\u001b[49m\u001b[43m \u001b[49m\u001b[43m*\u001b[49m\u001b[43m*\u001b[49m\u001b[43mkwargs\u001b[49m\u001b[43m)\u001b[49m\n",
      "\u001b[36mFile \u001b[39m\u001b[32m~\\PycharmProjects\\MyStuff\\.venv\\Lib\\site-packages\\requests\\api.py:59\u001b[39m, in \u001b[36mrequest\u001b[39m\u001b[34m(method, url, **kwargs)\u001b[39m\n\u001b[32m     55\u001b[39m \u001b[38;5;66;03m# By using the 'with' statement we are sure the session is closed, thus we\u001b[39;00m\n\u001b[32m     56\u001b[39m \u001b[38;5;66;03m# avoid leaving sockets open which can trigger a ResourceWarning in some\u001b[39;00m\n\u001b[32m     57\u001b[39m \u001b[38;5;66;03m# cases, and look like a memory leak in others.\u001b[39;00m\n\u001b[32m     58\u001b[39m \u001b[38;5;28;01mwith\u001b[39;00m sessions.Session() \u001b[38;5;28;01mas\u001b[39;00m session:\n\u001b[32m---> \u001b[39m\u001b[32m59\u001b[39m     \u001b[38;5;28;01mreturn\u001b[39;00m \u001b[43msession\u001b[49m\u001b[43m.\u001b[49m\u001b[43mrequest\u001b[49m\u001b[43m(\u001b[49m\u001b[43mmethod\u001b[49m\u001b[43m=\u001b[49m\u001b[43mmethod\u001b[49m\u001b[43m,\u001b[49m\u001b[43m \u001b[49m\u001b[43murl\u001b[49m\u001b[43m=\u001b[49m\u001b[43murl\u001b[49m\u001b[43m,\u001b[49m\u001b[43m \u001b[49m\u001b[43m*\u001b[49m\u001b[43m*\u001b[49m\u001b[43mkwargs\u001b[49m\u001b[43m)\u001b[49m\n",
      "\u001b[36mFile \u001b[39m\u001b[32m~\\PycharmProjects\\MyStuff\\.venv\\Lib\\site-packages\\requests\\sessions.py:589\u001b[39m, in \u001b[36mSession.request\u001b[39m\u001b[34m(self, method, url, params, data, headers, cookies, files, auth, timeout, allow_redirects, proxies, hooks, stream, verify, cert, json)\u001b[39m\n\u001b[32m    584\u001b[39m send_kwargs = {\n\u001b[32m    585\u001b[39m     \u001b[33m\"\u001b[39m\u001b[33mtimeout\u001b[39m\u001b[33m\"\u001b[39m: timeout,\n\u001b[32m    586\u001b[39m     \u001b[33m\"\u001b[39m\u001b[33mallow_redirects\u001b[39m\u001b[33m\"\u001b[39m: allow_redirects,\n\u001b[32m    587\u001b[39m }\n\u001b[32m    588\u001b[39m send_kwargs.update(settings)\n\u001b[32m--> \u001b[39m\u001b[32m589\u001b[39m resp = \u001b[38;5;28;43mself\u001b[39;49m\u001b[43m.\u001b[49m\u001b[43msend\u001b[49m\u001b[43m(\u001b[49m\u001b[43mprep\u001b[49m\u001b[43m,\u001b[49m\u001b[43m \u001b[49m\u001b[43m*\u001b[49m\u001b[43m*\u001b[49m\u001b[43msend_kwargs\u001b[49m\u001b[43m)\u001b[49m\n\u001b[32m    591\u001b[39m \u001b[38;5;28;01mreturn\u001b[39;00m resp\n",
      "\u001b[36mFile \u001b[39m\u001b[32m~\\PycharmProjects\\MyStuff\\.venv\\Lib\\site-packages\\requests\\sessions.py:703\u001b[39m, in \u001b[36mSession.send\u001b[39m\u001b[34m(self, request, **kwargs)\u001b[39m\n\u001b[32m    700\u001b[39m start = preferred_clock()\n\u001b[32m    702\u001b[39m \u001b[38;5;66;03m# Send the request\u001b[39;00m\n\u001b[32m--> \u001b[39m\u001b[32m703\u001b[39m r = \u001b[43madapter\u001b[49m\u001b[43m.\u001b[49m\u001b[43msend\u001b[49m\u001b[43m(\u001b[49m\u001b[43mrequest\u001b[49m\u001b[43m,\u001b[49m\u001b[43m \u001b[49m\u001b[43m*\u001b[49m\u001b[43m*\u001b[49m\u001b[43mkwargs\u001b[49m\u001b[43m)\u001b[49m\n\u001b[32m    705\u001b[39m \u001b[38;5;66;03m# Total elapsed time of the request (approximately)\u001b[39;00m\n\u001b[32m    706\u001b[39m elapsed = preferred_clock() - start\n",
      "\u001b[36mFile \u001b[39m\u001b[32m~\\PycharmProjects\\MyStuff\\.venv\\Lib\\site-packages\\requests\\adapters.py:644\u001b[39m, in \u001b[36mHTTPAdapter.send\u001b[39m\u001b[34m(self, request, stream, timeout, verify, cert, proxies)\u001b[39m\n\u001b[32m    641\u001b[39m     timeout = TimeoutSauce(connect=timeout, read=timeout)\n\u001b[32m    643\u001b[39m \u001b[38;5;28;01mtry\u001b[39;00m:\n\u001b[32m--> \u001b[39m\u001b[32m644\u001b[39m     resp = \u001b[43mconn\u001b[49m\u001b[43m.\u001b[49m\u001b[43murlopen\u001b[49m\u001b[43m(\u001b[49m\n\u001b[32m    645\u001b[39m \u001b[43m        \u001b[49m\u001b[43mmethod\u001b[49m\u001b[43m=\u001b[49m\u001b[43mrequest\u001b[49m\u001b[43m.\u001b[49m\u001b[43mmethod\u001b[49m\u001b[43m,\u001b[49m\n\u001b[32m    646\u001b[39m \u001b[43m        \u001b[49m\u001b[43murl\u001b[49m\u001b[43m=\u001b[49m\u001b[43murl\u001b[49m\u001b[43m,\u001b[49m\n\u001b[32m    647\u001b[39m \u001b[43m        \u001b[49m\u001b[43mbody\u001b[49m\u001b[43m=\u001b[49m\u001b[43mrequest\u001b[49m\u001b[43m.\u001b[49m\u001b[43mbody\u001b[49m\u001b[43m,\u001b[49m\n\u001b[32m    648\u001b[39m \u001b[43m        \u001b[49m\u001b[43mheaders\u001b[49m\u001b[43m=\u001b[49m\u001b[43mrequest\u001b[49m\u001b[43m.\u001b[49m\u001b[43mheaders\u001b[49m\u001b[43m,\u001b[49m\n\u001b[32m    649\u001b[39m \u001b[43m        \u001b[49m\u001b[43mredirect\u001b[49m\u001b[43m=\u001b[49m\u001b[38;5;28;43;01mFalse\u001b[39;49;00m\u001b[43m,\u001b[49m\n\u001b[32m    650\u001b[39m \u001b[43m        \u001b[49m\u001b[43massert_same_host\u001b[49m\u001b[43m=\u001b[49m\u001b[38;5;28;43;01mFalse\u001b[39;49;00m\u001b[43m,\u001b[49m\n\u001b[32m    651\u001b[39m \u001b[43m        \u001b[49m\u001b[43mpreload_content\u001b[49m\u001b[43m=\u001b[49m\u001b[38;5;28;43;01mFalse\u001b[39;49;00m\u001b[43m,\u001b[49m\n\u001b[32m    652\u001b[39m \u001b[43m        \u001b[49m\u001b[43mdecode_content\u001b[49m\u001b[43m=\u001b[49m\u001b[38;5;28;43;01mFalse\u001b[39;49;00m\u001b[43m,\u001b[49m\n\u001b[32m    653\u001b[39m \u001b[43m        \u001b[49m\u001b[43mretries\u001b[49m\u001b[43m=\u001b[49m\u001b[38;5;28;43mself\u001b[39;49m\u001b[43m.\u001b[49m\u001b[43mmax_retries\u001b[49m\u001b[43m,\u001b[49m\n\u001b[32m    654\u001b[39m \u001b[43m        \u001b[49m\u001b[43mtimeout\u001b[49m\u001b[43m=\u001b[49m\u001b[43mtimeout\u001b[49m\u001b[43m,\u001b[49m\n\u001b[32m    655\u001b[39m \u001b[43m        \u001b[49m\u001b[43mchunked\u001b[49m\u001b[43m=\u001b[49m\u001b[43mchunked\u001b[49m\u001b[43m,\u001b[49m\n\u001b[32m    656\u001b[39m \u001b[43m    \u001b[49m\u001b[43m)\u001b[49m\n\u001b[32m    658\u001b[39m \u001b[38;5;28;01mexcept\u001b[39;00m (ProtocolError, \u001b[38;5;167;01mOSError\u001b[39;00m) \u001b[38;5;28;01mas\u001b[39;00m err:\n\u001b[32m    659\u001b[39m     \u001b[38;5;28;01mraise\u001b[39;00m \u001b[38;5;167;01mConnectionError\u001b[39;00m(err, request=request)\n",
      "\u001b[36mFile \u001b[39m\u001b[32m~\\PycharmProjects\\MyStuff\\.venv\\Lib\\site-packages\\urllib3\\connectionpool.py:787\u001b[39m, in \u001b[36mHTTPConnectionPool.urlopen\u001b[39m\u001b[34m(self, method, url, body, headers, retries, redirect, assert_same_host, timeout, pool_timeout, release_conn, chunked, body_pos, preload_content, decode_content, **response_kw)\u001b[39m\n\u001b[32m    784\u001b[39m response_conn = conn \u001b[38;5;28;01mif\u001b[39;00m \u001b[38;5;129;01mnot\u001b[39;00m release_conn \u001b[38;5;28;01melse\u001b[39;00m \u001b[38;5;28;01mNone\u001b[39;00m\n\u001b[32m    786\u001b[39m \u001b[38;5;66;03m# Make the request on the HTTPConnection object\u001b[39;00m\n\u001b[32m--> \u001b[39m\u001b[32m787\u001b[39m response = \u001b[38;5;28;43mself\u001b[39;49m\u001b[43m.\u001b[49m\u001b[43m_make_request\u001b[49m\u001b[43m(\u001b[49m\n\u001b[32m    788\u001b[39m \u001b[43m    \u001b[49m\u001b[43mconn\u001b[49m\u001b[43m,\u001b[49m\n\u001b[32m    789\u001b[39m \u001b[43m    \u001b[49m\u001b[43mmethod\u001b[49m\u001b[43m,\u001b[49m\n\u001b[32m    790\u001b[39m \u001b[43m    \u001b[49m\u001b[43murl\u001b[49m\u001b[43m,\u001b[49m\n\u001b[32m    791\u001b[39m \u001b[43m    \u001b[49m\u001b[43mtimeout\u001b[49m\u001b[43m=\u001b[49m\u001b[43mtimeout_obj\u001b[49m\u001b[43m,\u001b[49m\n\u001b[32m    792\u001b[39m \u001b[43m    \u001b[49m\u001b[43mbody\u001b[49m\u001b[43m=\u001b[49m\u001b[43mbody\u001b[49m\u001b[43m,\u001b[49m\n\u001b[32m    793\u001b[39m \u001b[43m    \u001b[49m\u001b[43mheaders\u001b[49m\u001b[43m=\u001b[49m\u001b[43mheaders\u001b[49m\u001b[43m,\u001b[49m\n\u001b[32m    794\u001b[39m \u001b[43m    \u001b[49m\u001b[43mchunked\u001b[49m\u001b[43m=\u001b[49m\u001b[43mchunked\u001b[49m\u001b[43m,\u001b[49m\n\u001b[32m    795\u001b[39m \u001b[43m    \u001b[49m\u001b[43mretries\u001b[49m\u001b[43m=\u001b[49m\u001b[43mretries\u001b[49m\u001b[43m,\u001b[49m\n\u001b[32m    796\u001b[39m \u001b[43m    \u001b[49m\u001b[43mresponse_conn\u001b[49m\u001b[43m=\u001b[49m\u001b[43mresponse_conn\u001b[49m\u001b[43m,\u001b[49m\n\u001b[32m    797\u001b[39m \u001b[43m    \u001b[49m\u001b[43mpreload_content\u001b[49m\u001b[43m=\u001b[49m\u001b[43mpreload_content\u001b[49m\u001b[43m,\u001b[49m\n\u001b[32m    798\u001b[39m \u001b[43m    \u001b[49m\u001b[43mdecode_content\u001b[49m\u001b[43m=\u001b[49m\u001b[43mdecode_content\u001b[49m\u001b[43m,\u001b[49m\n\u001b[32m    799\u001b[39m \u001b[43m    \u001b[49m\u001b[43m*\u001b[49m\u001b[43m*\u001b[49m\u001b[43mresponse_kw\u001b[49m\u001b[43m,\u001b[49m\n\u001b[32m    800\u001b[39m \u001b[43m\u001b[49m\u001b[43m)\u001b[49m\n\u001b[32m    802\u001b[39m \u001b[38;5;66;03m# Everything went great!\u001b[39;00m\n\u001b[32m    803\u001b[39m clean_exit = \u001b[38;5;28;01mTrue\u001b[39;00m\n",
      "\u001b[36mFile \u001b[39m\u001b[32m~\\PycharmProjects\\MyStuff\\.venv\\Lib\\site-packages\\urllib3\\connectionpool.py:534\u001b[39m, in \u001b[36mHTTPConnectionPool._make_request\u001b[39m\u001b[34m(self, conn, method, url, body, headers, retries, timeout, chunked, response_conn, preload_content, decode_content, enforce_content_length)\u001b[39m\n\u001b[32m    532\u001b[39m \u001b[38;5;66;03m# Receive the response from the server\u001b[39;00m\n\u001b[32m    533\u001b[39m \u001b[38;5;28;01mtry\u001b[39;00m:\n\u001b[32m--> \u001b[39m\u001b[32m534\u001b[39m     response = \u001b[43mconn\u001b[49m\u001b[43m.\u001b[49m\u001b[43mgetresponse\u001b[49m\u001b[43m(\u001b[49m\u001b[43m)\u001b[49m\n\u001b[32m    535\u001b[39m \u001b[38;5;28;01mexcept\u001b[39;00m (BaseSSLError, \u001b[38;5;167;01mOSError\u001b[39;00m) \u001b[38;5;28;01mas\u001b[39;00m e:\n\u001b[32m    536\u001b[39m     \u001b[38;5;28mself\u001b[39m._raise_timeout(err=e, url=url, timeout_value=read_timeout)\n",
      "\u001b[36mFile \u001b[39m\u001b[32m~\\PycharmProjects\\MyStuff\\.venv\\Lib\\site-packages\\urllib3\\connection.py:565\u001b[39m, in \u001b[36mHTTPConnection.getresponse\u001b[39m\u001b[34m(self)\u001b[39m\n\u001b[32m    562\u001b[39m _shutdown = \u001b[38;5;28mgetattr\u001b[39m(\u001b[38;5;28mself\u001b[39m.sock, \u001b[33m\"\u001b[39m\u001b[33mshutdown\u001b[39m\u001b[33m\"\u001b[39m, \u001b[38;5;28;01mNone\u001b[39;00m)\n\u001b[32m    564\u001b[39m \u001b[38;5;66;03m# Get the response from http.client.HTTPConnection\u001b[39;00m\n\u001b[32m--> \u001b[39m\u001b[32m565\u001b[39m httplib_response = \u001b[38;5;28;43msuper\u001b[39;49m\u001b[43m(\u001b[49m\u001b[43m)\u001b[49m\u001b[43m.\u001b[49m\u001b[43mgetresponse\u001b[49m\u001b[43m(\u001b[49m\u001b[43m)\u001b[49m\n\u001b[32m    567\u001b[39m \u001b[38;5;28;01mtry\u001b[39;00m:\n\u001b[32m    568\u001b[39m     assert_header_parsing(httplib_response.msg)\n",
      "\u001b[36mFile \u001b[39m\u001b[32m~\\AppData\\Local\\Programs\\Python\\Python312\\Lib\\http\\client.py:1428\u001b[39m, in \u001b[36mHTTPConnection.getresponse\u001b[39m\u001b[34m(self)\u001b[39m\n\u001b[32m   1426\u001b[39m \u001b[38;5;28;01mtry\u001b[39;00m:\n\u001b[32m   1427\u001b[39m     \u001b[38;5;28;01mtry\u001b[39;00m:\n\u001b[32m-> \u001b[39m\u001b[32m1428\u001b[39m         \u001b[43mresponse\u001b[49m\u001b[43m.\u001b[49m\u001b[43mbegin\u001b[49m\u001b[43m(\u001b[49m\u001b[43m)\u001b[49m\n\u001b[32m   1429\u001b[39m     \u001b[38;5;28;01mexcept\u001b[39;00m \u001b[38;5;167;01mConnectionError\u001b[39;00m:\n\u001b[32m   1430\u001b[39m         \u001b[38;5;28mself\u001b[39m.close()\n",
      "\u001b[36mFile \u001b[39m\u001b[32m~\\AppData\\Local\\Programs\\Python\\Python312\\Lib\\http\\client.py:331\u001b[39m, in \u001b[36mHTTPResponse.begin\u001b[39m\u001b[34m(self)\u001b[39m\n\u001b[32m    329\u001b[39m \u001b[38;5;66;03m# read until we get a non-100 response\u001b[39;00m\n\u001b[32m    330\u001b[39m \u001b[38;5;28;01mwhile\u001b[39;00m \u001b[38;5;28;01mTrue\u001b[39;00m:\n\u001b[32m--> \u001b[39m\u001b[32m331\u001b[39m     version, status, reason = \u001b[38;5;28;43mself\u001b[39;49m\u001b[43m.\u001b[49m\u001b[43m_read_status\u001b[49m\u001b[43m(\u001b[49m\u001b[43m)\u001b[49m\n\u001b[32m    332\u001b[39m     \u001b[38;5;28;01mif\u001b[39;00m status != CONTINUE:\n\u001b[32m    333\u001b[39m         \u001b[38;5;28;01mbreak\u001b[39;00m\n",
      "\u001b[36mFile \u001b[39m\u001b[32m~\\AppData\\Local\\Programs\\Python\\Python312\\Lib\\http\\client.py:292\u001b[39m, in \u001b[36mHTTPResponse._read_status\u001b[39m\u001b[34m(self)\u001b[39m\n\u001b[32m    291\u001b[39m \u001b[38;5;28;01mdef\u001b[39;00m\u001b[38;5;250m \u001b[39m\u001b[34m_read_status\u001b[39m(\u001b[38;5;28mself\u001b[39m):\n\u001b[32m--> \u001b[39m\u001b[32m292\u001b[39m     line = \u001b[38;5;28mstr\u001b[39m(\u001b[38;5;28;43mself\u001b[39;49m\u001b[43m.\u001b[49m\u001b[43mfp\u001b[49m\u001b[43m.\u001b[49m\u001b[43mreadline\u001b[49m\u001b[43m(\u001b[49m\u001b[43m_MAXLINE\u001b[49m\u001b[43m \u001b[49m\u001b[43m+\u001b[49m\u001b[43m \u001b[49m\u001b[32;43m1\u001b[39;49m\u001b[43m)\u001b[49m, \u001b[33m\"\u001b[39m\u001b[33miso-8859-1\u001b[39m\u001b[33m\"\u001b[39m)\n\u001b[32m    293\u001b[39m     \u001b[38;5;28;01mif\u001b[39;00m \u001b[38;5;28mlen\u001b[39m(line) > _MAXLINE:\n\u001b[32m    294\u001b[39m         \u001b[38;5;28;01mraise\u001b[39;00m LineTooLong(\u001b[33m\"\u001b[39m\u001b[33mstatus line\u001b[39m\u001b[33m\"\u001b[39m)\n",
      "\u001b[36mFile \u001b[39m\u001b[32m~\\AppData\\Local\\Programs\\Python\\Python312\\Lib\\socket.py:707\u001b[39m, in \u001b[36mSocketIO.readinto\u001b[39m\u001b[34m(self, b)\u001b[39m\n\u001b[32m    705\u001b[39m \u001b[38;5;28;01mwhile\u001b[39;00m \u001b[38;5;28;01mTrue\u001b[39;00m:\n\u001b[32m    706\u001b[39m     \u001b[38;5;28;01mtry\u001b[39;00m:\n\u001b[32m--> \u001b[39m\u001b[32m707\u001b[39m         \u001b[38;5;28;01mreturn\u001b[39;00m \u001b[38;5;28;43mself\u001b[39;49m\u001b[43m.\u001b[49m\u001b[43m_sock\u001b[49m\u001b[43m.\u001b[49m\u001b[43mrecv_into\u001b[49m\u001b[43m(\u001b[49m\u001b[43mb\u001b[49m\u001b[43m)\u001b[49m\n\u001b[32m    708\u001b[39m     \u001b[38;5;28;01mexcept\u001b[39;00m timeout:\n\u001b[32m    709\u001b[39m         \u001b[38;5;28mself\u001b[39m._timeout_occurred = \u001b[38;5;28;01mTrue\u001b[39;00m\n",
      "\u001b[36mFile \u001b[39m\u001b[32m~\\AppData\\Local\\Programs\\Python\\Python312\\Lib\\ssl.py:1252\u001b[39m, in \u001b[36mSSLSocket.recv_into\u001b[39m\u001b[34m(self, buffer, nbytes, flags)\u001b[39m\n\u001b[32m   1248\u001b[39m     \u001b[38;5;28;01mif\u001b[39;00m flags != \u001b[32m0\u001b[39m:\n\u001b[32m   1249\u001b[39m         \u001b[38;5;28;01mraise\u001b[39;00m \u001b[38;5;167;01mValueError\u001b[39;00m(\n\u001b[32m   1250\u001b[39m           \u001b[33m\"\u001b[39m\u001b[33mnon-zero flags not allowed in calls to recv_into() on \u001b[39m\u001b[38;5;132;01m%s\u001b[39;00m\u001b[33m\"\u001b[39m %\n\u001b[32m   1251\u001b[39m           \u001b[38;5;28mself\u001b[39m.\u001b[34m__class__\u001b[39m)\n\u001b[32m-> \u001b[39m\u001b[32m1252\u001b[39m     \u001b[38;5;28;01mreturn\u001b[39;00m \u001b[38;5;28;43mself\u001b[39;49m\u001b[43m.\u001b[49m\u001b[43mread\u001b[49m\u001b[43m(\u001b[49m\u001b[43mnbytes\u001b[49m\u001b[43m,\u001b[49m\u001b[43m \u001b[49m\u001b[43mbuffer\u001b[49m\u001b[43m)\u001b[49m\n\u001b[32m   1253\u001b[39m \u001b[38;5;28;01melse\u001b[39;00m:\n\u001b[32m   1254\u001b[39m     \u001b[38;5;28;01mreturn\u001b[39;00m \u001b[38;5;28msuper\u001b[39m().recv_into(buffer, nbytes, flags)\n",
      "\u001b[36mFile \u001b[39m\u001b[32m~\\AppData\\Local\\Programs\\Python\\Python312\\Lib\\ssl.py:1104\u001b[39m, in \u001b[36mSSLSocket.read\u001b[39m\u001b[34m(self, len, buffer)\u001b[39m\n\u001b[32m   1102\u001b[39m \u001b[38;5;28;01mtry\u001b[39;00m:\n\u001b[32m   1103\u001b[39m     \u001b[38;5;28;01mif\u001b[39;00m buffer \u001b[38;5;129;01mis\u001b[39;00m \u001b[38;5;129;01mnot\u001b[39;00m \u001b[38;5;28;01mNone\u001b[39;00m:\n\u001b[32m-> \u001b[39m\u001b[32m1104\u001b[39m         \u001b[38;5;28;01mreturn\u001b[39;00m \u001b[38;5;28;43mself\u001b[39;49m\u001b[43m.\u001b[49m\u001b[43m_sslobj\u001b[49m\u001b[43m.\u001b[49m\u001b[43mread\u001b[49m\u001b[43m(\u001b[49m\u001b[38;5;28;43mlen\u001b[39;49m\u001b[43m,\u001b[49m\u001b[43m \u001b[49m\u001b[43mbuffer\u001b[49m\u001b[43m)\u001b[49m\n\u001b[32m   1105\u001b[39m     \u001b[38;5;28;01melse\u001b[39;00m:\n\u001b[32m   1106\u001b[39m         \u001b[38;5;28;01mreturn\u001b[39;00m \u001b[38;5;28mself\u001b[39m._sslobj.read(\u001b[38;5;28mlen\u001b[39m)\n",
      "\u001b[31mKeyboardInterrupt\u001b[39m: "
     ]
    }
   ],
   "source": [
    "create_dataset(recentGamesList)"
   ]
  }
 ],
 "metadata": {
  "kernelspec": {
   "display_name": "Python (PyCharm .venv)",
   "language": "python",
   "name": "pycharm-venv"
  },
  "language_info": {
   "codemirror_mode": {
    "name": "ipython",
    "version": 3
   },
   "file_extension": ".py",
   "mimetype": "text/x-python",
   "name": "python",
   "nbconvert_exporter": "python",
   "pygments_lexer": "ipython3",
   "version": "3.12.3"
  }
 },
 "nbformat": 4,
 "nbformat_minor": 5
}
