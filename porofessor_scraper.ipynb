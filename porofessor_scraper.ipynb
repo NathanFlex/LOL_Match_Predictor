{
 "cells": [
  {
   "cell_type": "code",
   "execution_count": 72,
   "id": "7bfe3ba2-e154-407b-a6f3-73e79dfe3b12",
   "metadata": {},
   "outputs": [],
   "source": [
    "import bs4\n",
    "from bs4 import BeautifulSoup\n",
    "import requests\n",
    "import pandas as pd\n",
    "import sys"
   ]
  },
  {
   "cell_type": "code",
   "execution_count": 5,
   "id": "16661835-3cd9-42ec-bdd6-f534f98327d4",
   "metadata": {},
   "outputs": [],
   "source": [
    "headers = {\n",
    "    \"User-Agent\": \"Mozilla/5.0 (Windows NT 10.0; Win64; x64) \"\n",
    "                  \"AppleWebKit/537.36 (KHTML, like Gecko) \"\n",
    "                  \"Chrome/135.0.0.0 Safari/537.36\"\n",
    "}"
   ]
  },
  {
   "cell_type": "code",
   "execution_count": 6,
   "id": "aacb8e4d-3ff6-4090-96e5-2a4fd0896b96",
   "metadata": {},
   "outputs": [],
   "source": [
    "page = requests.get(\"https://www.leagueofgraphs.com/summoner/champions/leona/sg/Natholiii-BEANS\", headers=headers)"
   ]
  },
  {
   "cell_type": "code",
   "execution_count": 7,
   "id": "cf5b6e2b-f0c4-4291-a472-5cbe605641ad",
   "metadata": {},
   "outputs": [],
   "source": [
    "soup = BeautifulSoup(page.text,\"html.parser\")"
   ]
  },
  {
   "cell_type": "markdown",
   "id": "998949c3-15ee-4ff7-8924-135b99e8e07e",
   "metadata": {
    "jp-MarkdownHeadingCollapsed": true
   },
   "source": [
    "## Explaining Steps|"
   ]
  },
  {
   "cell_type": "markdown",
   "id": "0b98294f-8273-4073-b76f-44345cefbf38",
   "metadata": {},
   "source": [
    "### Navigating to the table with recent games"
   ]
  },
  {
   "cell_type": "markdown",
   "id": "a2180efa-81f8-492d-857c-b702d09f3b3f",
   "metadata": {},
   "source": [
    "body -> {div; id : pageContainer , class : row}} -> {div; id: pageContent} -> {div; id: mainContentSuperContainer}\n",
    "-> {div; id: mainContentContainer} -> {div; id: mainContent} -> {div; class: row summoner_performances}\n",
    "-> {div; class: medium-9 small-24 columns} -> {div; class: box box-padding-10-10 recentGamesBox}\n",
    "-> {table; class: data_table relative recentGamesTable performanceRecentGamesTable}"
   ]
  },
  {
   "cell_type": "code",
   "execution_count": 8,
   "id": "31ae7aaa-a10b-449b-866b-f19d3f0d00d7",
   "metadata": {},
   "outputs": [],
   "source": [
    "pageContainer = soup.body.find(\"div\", attrs = {\"id\":\"pageContainer\",\"class\":\"row\"})"
   ]
  },
  {
   "cell_type": "code",
   "execution_count": 9,
   "id": "759e131d-85d6-40da-80b1-a2d087ded56e",
   "metadata": {},
   "outputs": [],
   "source": [
    "pageContent = pageContainer.find_all(\"div\", attrs = {\"id\":\"pageContent\"})\n",
    "if len(pageContent) == 1:\n",
    "    pageContent = pageContainer.find(\"div\", attrs = {\"id\":\"pageContent\"})\n",
    "else:\n",
    "    print(\"Multiple pageContents found, check for more attributes\")"
   ]
  },
  {
   "cell_type": "code",
   "execution_count": 10,
   "id": "eccfbb04-a747-42c9-8806-6bc0b0d93378",
   "metadata": {},
   "outputs": [],
   "source": [
    "mainContentSuperContainer = pageContent.find_all(\"div\", attrs = {\"id\":\"mainContentSuperContainer\"})\n",
    "if len(mainContentSuperContainer) == 1:\n",
    "    mainContentSuperContainer = pageContainer.find(\"div\", attrs = {\"id\":\"mainContentSuperContainer\"})\n",
    "else:\n",
    "    print(\"Multiple mainContentSuperContainers found, check for more attributes\")"
   ]
  },
  {
   "cell_type": "code",
   "execution_count": 11,
   "id": "e9c7bd69-9a7a-4c14-a360-1bd77e3f841e",
   "metadata": {},
   "outputs": [],
   "source": [
    "mainContentContainer = mainContentSuperContainer.find_all(\"div\", attrs = {\"id\":\"mainContentContainer\"})\n",
    "if len(mainContentContainer) == 1:\n",
    "    mainContentContainer = mainContentSuperContainer.find(\"div\", attrs = {\"id\":\"mainContentContainer\"})\n",
    "else:\n",
    "    print(\"Multiple mainContentContainer found, check for more attributes\")"
   ]
  },
  {
   "cell_type": "code",
   "execution_count": 12,
   "id": "fd221e40-bf5b-42a4-a9b9-7a6419e74132",
   "metadata": {},
   "outputs": [],
   "source": [
    "mainContent = mainContentContainer.find_all(\"div\", attrs = {\"id\":\"mainContent\"})\n",
    "if len(mainContent) == 1:\n",
    "    mainContent = mainContentContainer.find(\"div\", attrs = {\"id\":\"mainContent\"})\n",
    "else:\n",
    "    print(\"Multiple mainContents found, check for more attributes\")"
   ]
  },
  {
   "cell_type": "code",
   "execution_count": 13,
   "id": "7e772e4a-68e3-4c2d-9632-c7da130dc99a",
   "metadata": {},
   "outputs": [],
   "source": [
    "summoner_performances = mainContent.find_all(\"div\", attrs = {\"class\":\"row summoner_performances\"})\n",
    "if len(summoner_performances) == 1:\n",
    "    summoner_performances = mainContent.find(\"div\", attrs = {\"class\":\"row summoner_performances\"})\n",
    "elif len(summoner_performances) == 0:\n",
    "    print(\"None Found\")\n",
    "else:\n",
    "    print(\"Multiple summoner_performances found, check for more attributes\")"
   ]
  },
  {
   "cell_type": "code",
   "execution_count": 14,
   "id": "d670f5e0-ff55-41b1-b0e9-d9759dda2359",
   "metadata": {},
   "outputs": [],
   "source": [
    "recentGamesBox = summoner_performances.find(\"div\", attrs = {\"class\":\"medium-9 small-24 columns\"}).find(\"div\", attrs = {\"class\":\"box box-padding-10-10 recentGamesBox\"})"
   ]
  },
  {
   "cell_type": "code",
   "execution_count": 15,
   "id": "fcbc47c7-2a69-4f2f-81c6-a97b99f255e0",
   "metadata": {},
   "outputs": [],
   "source": [
    "recentGamesTable = recentGamesBox.find(\"table\", attrs = {\"class\":\"data_table relative recentGamesTable performanceRecentGamesTable\"})"
   ]
  },
  {
   "cell_type": "markdown",
   "id": "f8bdd04d-0ee7-4282-976c-7142ffb14462",
   "metadata": {},
   "source": [
    "### Add all games to a list"
   ]
  },
  {
   "cell_type": "markdown",
   "id": "e570da7f-a765-4d62-9560-9a41c045230a",
   "metadata": {},
   "source": [
    "#### Add the containers for the games"
   ]
  },
  {
   "cell_type": "code",
   "execution_count": 16,
   "id": "888f2058-9d2a-4e11-b610-29e596c7351c",
   "metadata": {},
   "outputs": [],
   "source": [
    "# First add 5 most recent games\n",
    "recentGamesList = recentGamesTable.find_all(\"tr\",attrs = {\"class\":\"\"})\n",
    "\n",
    "# Then append the hidden games\n",
    "for game in recentGamesTable.find_all(\"tr\",attrs = {\"class\":\"see_more_hidden\"}):\n",
    "    recentGamesList.append(game)"
   ]
  },
  {
   "cell_type": "markdown",
   "id": "9130d624-0b24-4457-afeb-9dd3c42f5ff8",
   "metadata": {},
   "source": [
    "#### Iterate and add links to each match"
   ]
  },
  {
   "cell_type": "code",
   "execution_count": 60,
   "id": "8fae7735-03b4-4aee-b546-f5d4999c0ea8",
   "metadata": {},
   "outputs": [],
   "source": [
    "# Adding just the last 10\n",
    "number_of_matches = 10\n",
    "hrefs_matches = []\n",
    "\n",
    "for i in range(number_of_matches):\n",
    "    match_link = recentGamesList[i].find(\"td\", attrs = {\"class\":\"resultCellLight text-center\"}).find(\"a\")['href']\n",
    "    hrefs_matches.append(match_link)"
   ]
  },
  {
   "cell_type": "code",
   "execution_count": 18,
   "id": "f96bdbc6-31fb-4d13-b218-6aa075fee47b",
   "metadata": {},
   "outputs": [],
   "source": [
    "links_matches = []\n",
    "for i in range(number_of_matches):\n",
    "    links_matches.append(\"https://www.leagueofgraphs.com/\" + hrefs_matches[i])"
   ]
  },
  {
   "cell_type": "markdown",
   "id": "9c133412-af17-48b5-9060-8d70a45aba33",
   "metadata": {},
   "source": [
    "### Get the stats"
   ]
  },
  {
   "cell_type": "markdown",
   "id": "06ea1023-9cb0-4777-bc9d-9967117bd9de",
   "metadata": {},
   "source": [
    "#### Access a match"
   ]
  },
  {
   "cell_type": "code",
   "execution_count": 19,
   "id": "9bc9602c-96df-487e-8806-0904eb15c36c",
   "metadata": {},
   "outputs": [
    {
     "data": {
      "text/plain": [
       "'https://www.leagueofgraphs.com//match/sg/96484138#participant5'"
      ]
     },
     "execution_count": 19,
     "metadata": {},
     "output_type": "execute_result"
    }
   ],
   "source": [
    "links_matches[0]"
   ]
  },
  {
   "cell_type": "code",
   "execution_count": 44,
   "id": "e13eaf61-7e77-4e13-a293-2f54b56918e9",
   "metadata": {},
   "outputs": [],
   "source": [
    "def return_game_table(match):\n",
    "    game_page = requests.get(match, headers=headers)\n",
    "    gameSoup = BeautifulSoup(game_page.text,\"html.parser\")\n",
    "    gamepageContainer = gameSoup.body.find(\"div\", attrs = {\"id\":\"pageContainer\",\"class\":\"row\"})\n",
    "    gamemainContentSuperContainer = gamepageContainer.find(\"div\", attrs = {\"id\":\"pageContent\"}).find(\"div\", attrs = {\"id\":\"mainContentSuperContainer\"})\n",
    "    gamemainContentContainer = gamemainContentSuperContainer.find(\"div\", attrs = {\"id\":\"mainContent\"})\n",
    "    gameTable = gamemainContentContainer.find(\"table\", attrs = {\"class\":\"data_table matchTable\"})\n",
    "    return gameTable"
   ]
  },
  {
   "cell_type": "code",
   "execution_count": 45,
   "id": "cff09f3a-0338-4440-9a67-96f1a98daf79",
   "metadata": {},
   "outputs": [],
   "source": [
    "gameTable = return_game_table(links_matches[0])"
   ]
  },
  {
   "cell_type": "markdown",
   "id": "41e4a3c4-111a-44f9-8ec5-d4e35cc483ee",
   "metadata": {},
   "source": [
    "#### Find Leona from the players"
   ]
  },
  {
   "cell_type": "code",
   "execution_count": 46,
   "id": "80f2a10e-4f9f-4639-ab00-57c18884d52d",
   "metadata": {},
   "outputs": [],
   "source": [
    "def find_leona(gameTable):\n",
    "    players = gameTable.find_all(\"tr\",attrs = {\"class\":\"playerRow\"})\n",
    "    # Support role will always be last in the list\n",
    "    support_role = players[4]\n",
    "    # Is she red or blue side?\n",
    "    left_side = \"text-left summoner_column\"\n",
    "    stats = support_role.find_all(\"td\", attrs = {\"class\":\"kdaColumn hide-for-small-down requireTooltip noCursor\"})\n",
    "    \n",
    "    champ_title = support_role.find(\"td\",attrs = {\"class\":left_side}).find(\"img\")['title']\n",
    "    if champ_title == 'Leona':\n",
    "        index = 0\n",
    "        side = \"left\"\n",
    "    else:\n",
    "        index = 1\n",
    "        side = \"right\"\n",
    "    leona_stats = stats[index]\n",
    "    return side, support_role, leona_stats, index"
   ]
  },
  {
   "cell_type": "code",
   "execution_count": 47,
   "id": "1c0142a5-803e-46d4-9067-0d1e1b5dd1b1",
   "metadata": {},
   "outputs": [],
   "source": [
    "side, support_role, leona_stats, index = find_leona(gameTable)"
   ]
  },
  {
   "cell_type": "markdown",
   "id": "42ac2700-d269-4e32-a1f5-1e007b9cbde4",
   "metadata": {},
   "source": [
    "#### Did you win or lose?"
   ]
  },
  {
   "cell_type": "code",
   "execution_count": 48,
   "id": "a27eb175-962e-4b17-b18a-27f31fda84e4",
   "metadata": {},
   "outputs": [],
   "source": [
    "def match_result(gameTable,side):\n",
    "    if side == \"left\":\n",
    "        _ = gameTable.find(\"th\",attrs = {\"class\":\"text-left no-padding-right\"})\n",
    "    else:\n",
    "        _ = gameTable.find(\"th\",attrs = {\"class\":\"text-right no-padding-left\"})\n",
    "    result = _.find_all(\"span\")\n",
    "    return result"
   ]
  },
  {
   "cell_type": "code",
   "execution_count": 49,
   "id": "d706c67e-23b6-4156-b865-f4898d5c0e71",
   "metadata": {},
   "outputs": [],
   "source": [
    "if match_result(gameTable,side)[0].text.isalpha():\n",
    "    result = match_result(gameTable,side)[0].text\n",
    "else:\n",
    "    result = match_result(gameTable,side)[1].text"
   ]
  },
  {
   "cell_type": "markdown",
   "id": "0c13867d-afda-4941-943f-a570923943f6",
   "metadata": {},
   "source": [
    "#### Get Stats"
   ]
  },
  {
   "cell_type": "code",
   "execution_count": 50,
   "id": "cff69175-c513-4f69-8bb8-1d767849365a",
   "metadata": {},
   "outputs": [],
   "source": [
    "def get_stats(leona_stats):\n",
    "    # Kills, Deaths, Assists\n",
    "    kda = [int(leona_stats.find(\"div\",attrs = {\"class\":\"kda\"}).find('span',attrs = {\"class\":\"kills\"}).text), \n",
    "           int(leona_stats.find(\"div\",attrs = {\"class\":\"kda\"}).find('span',attrs = {\"class\":\"deaths\"}).text),\n",
    "           int(leona_stats.find(\"div\",attrs = {\"class\":\"kda\"}).find('span',attrs = {\"class\":\"assists\"}).text)]\n",
    "\n",
    "    _ = leona_stats.find_all(\"div\",attrs = {\"class\":\"cs\"})\n",
    "\n",
    "    csgold = _[0].text.split('-')\n",
    "    vision = _[1].text.strip().split('-')[1].strip()\n",
    "\n",
    "    cs_gold = [data.strip() for data in csgold]\n",
    "    cs, gold = cs_gold[0],cs_gold[1]\n",
    "    \n",
    "    return kda, cs, gold, vision"
   ]
  },
  {
   "cell_type": "code",
   "execution_count": 51,
   "id": "893074fd-2ff0-4182-8d0d-a4279401ad07",
   "metadata": {},
   "outputs": [],
   "source": [
    "kda, cs, gold, vision = get_stats(leona_stats)"
   ]
  },
  {
   "cell_type": "markdown",
   "id": "bbf74252-b12b-41c5-bc70-b69a963b7077",
   "metadata": {},
   "source": [
    "#### Get Items"
   ]
  },
  {
   "cell_type": "code",
   "execution_count": 52,
   "id": "f598d829-d82e-4850-a676-1aa635202c33",
   "metadata": {},
   "outputs": [],
   "source": [
    "def get_items(support, index):\n",
    "    items = support_role.find(\"td\", attrs = {\"class\":\"itemsColumn itemsColumn-\" + str(index + 1) + \"00\"})\n",
    "    itemlist = [item['alt'] for item in items.find_all(\"img\", attrs = {\"tooltip-class\":\"itemTooltip\"})]\n",
    "    return itemlist"
   ]
  },
  {
   "cell_type": "code",
   "execution_count": 53,
   "id": "9aa5f9d8-4943-4e88-b8fe-364215b6b050",
   "metadata": {},
   "outputs": [],
   "source": [
    "items = get_items(support_role, index)"
   ]
  },
  {
   "cell_type": "markdown",
   "id": "f8d792ab-9618-40c8-b6c2-7ff306461fb7",
   "metadata": {},
   "source": [
    "### Create an excel file to store data"
   ]
  },
  {
   "cell_type": "markdown",
   "id": "b4204b77-2b39-4dd0-bcd3-1220c6e804b8",
   "metadata": {},
   "source": [
    "### Add everything to a dataframe"
   ]
  },
  {
   "cell_type": "code",
   "execution_count": 54,
   "id": "8ece520c-776d-4c59-a156-abbf3a6a60e3",
   "metadata": {},
   "outputs": [],
   "source": [
    "column_names = ['kills','deaths','assists','cs','gold','vision','result']\n",
    "dataframe = pd.DataFrame(columns = column_names)"
   ]
  },
  {
   "cell_type": "code",
   "execution_count": 55,
   "id": "cd2c4aeb-b7e2-45d4-83a7-3a53996667c0",
   "metadata": {},
   "outputs": [],
   "source": [
    "if result == \"Defeat\":\n",
    "    game_result = 0\n",
    "else:\n",
    "    game_result = 1"
   ]
  },
  {
   "cell_type": "code",
   "execution_count": 56,
   "id": "697f957d-5331-408f-8a35-bbc2c274cece",
   "metadata": {},
   "outputs": [],
   "source": [
    "gold_earned = gold.split(' ')[0]\n",
    "if 'k' in gold_earned:\n",
    "    gold_int = int(float(gold_earned.split('k')[0]) * 1000)"
   ]
  },
  {
   "cell_type": "code",
   "execution_count": 57,
   "id": "91a1948c-b0ef-4e92-a77b-724c93aa3550",
   "metadata": {},
   "outputs": [],
   "source": [
    "dataframe.loc[len(dataframe)] = [kda[0],kda[1],kda[2],int(cs.split(' ')[0]),gold_int,int(vision.split(' ')[1]),game_result]"
   ]
  },
  {
   "cell_type": "code",
   "execution_count": 58,
   "id": "7636a216-6722-4ff1-8317-43a2a28d55e0",
   "metadata": {},
   "outputs": [
    {
     "data": {
      "text/html": [
       "<div>\n",
       "<style scoped>\n",
       "    .dataframe tbody tr th:only-of-type {\n",
       "        vertical-align: middle;\n",
       "    }\n",
       "\n",
       "    .dataframe tbody tr th {\n",
       "        vertical-align: top;\n",
       "    }\n",
       "\n",
       "    .dataframe thead th {\n",
       "        text-align: right;\n",
       "    }\n",
       "</style>\n",
       "<table border=\"1\" class=\"dataframe\">\n",
       "  <thead>\n",
       "    <tr style=\"text-align: right;\">\n",
       "      <th></th>\n",
       "      <th>kills</th>\n",
       "      <th>deaths</th>\n",
       "      <th>assists</th>\n",
       "      <th>cs</th>\n",
       "      <th>gold</th>\n",
       "      <th>vision</th>\n",
       "      <th>result</th>\n",
       "    </tr>\n",
       "  </thead>\n",
       "  <tbody>\n",
       "    <tr>\n",
       "      <th>0</th>\n",
       "      <td>5</td>\n",
       "      <td>7</td>\n",
       "      <td>30</td>\n",
       "      <td>26</td>\n",
       "      <td>12200</td>\n",
       "      <td>60</td>\n",
       "      <td>1</td>\n",
       "    </tr>\n",
       "  </tbody>\n",
       "</table>\n",
       "</div>"
      ],
      "text/plain": [
       "   kills  deaths  assists  cs   gold  vision  result\n",
       "0      5       7       30  26  12200      60       1"
      ]
     },
     "execution_count": 58,
     "metadata": {},
     "output_type": "execute_result"
    }
   ],
   "source": [
    "dataframe"
   ]
  },
  {
   "cell_type": "markdown",
   "id": "6eac3136-3ad2-42d1-8d74-a85bd54e2ecd",
   "metadata": {},
   "source": [
    "## Do it all at once"
   ]
  },
  {
   "cell_type": "code",
   "execution_count": 106,
   "id": "63cc8e5e-df9e-4f26-a1d0-070a140b998e",
   "metadata": {},
   "outputs": [],
   "source": [
    "# First add 5 most recent games\n",
    "recentGamesList = recentGamesTable.find_all(\"tr\",attrs = {\"class\":\"\"})\n",
    "\n",
    "# Then append the hidden games\n",
    "for game in recentGamesTable.find_all(\"tr\",attrs = {\"class\":\"see_more_hidden\"}):\n",
    "    recentGamesList.append(game)"
   ]
  },
  {
   "cell_type": "code",
   "execution_count": 107,
   "id": "f3c0aeac-17ef-4b26-b543-def39a7da159",
   "metadata": {},
   "outputs": [],
   "source": [
    "def return_game_table(match):\n",
    "    game_page = requests.get(match, headers=headers)\n",
    "    gameSoup = BeautifulSoup(game_page.text,\"html.parser\")\n",
    "    gamepageContainer = gameSoup.body.find(\"div\", attrs = {\"id\":\"pageContainer\",\"class\":\"row\"})\n",
    "    gamemainContentSuperContainer = gamepageContainer.find(\"div\", attrs = {\"id\":\"pageContent\"}).find(\"div\", attrs = {\"id\":\"mainContentSuperContainer\"})\n",
    "    gamemainContentContainer = gamemainContentSuperContainer.find(\"div\", attrs = {\"id\":\"mainContent\"})\n",
    "    gameTable = gamemainContentContainer.find(\"table\", attrs = {\"class\":\"data_table matchTable\"})\n",
    "    return gameTable"
   ]
  },
  {
   "cell_type": "code",
   "execution_count": 108,
   "id": "f7b428c9-128c-465e-8a1b-422be35f8f78",
   "metadata": {},
   "outputs": [],
   "source": [
    "def find_leona(gameTable):\n",
    "    players = gameTable.find_all(\"tr\",attrs = {\"class\":\"playerRow\"})\n",
    "    # Support role will always be last in the list\n",
    "    support_role = players[4]\n",
    "    # Is she red or blue side?\n",
    "    left_side = \"text-left summoner_column\"\n",
    "    stats = support_role.find_all(\"td\", attrs = {\"class\":\"kdaColumn hide-for-small-down requireTooltip noCursor\"})\n",
    "    \n",
    "    champ_title = support_role.find(\"td\",attrs = {\"class\":left_side}).find(\"img\")['title']\n",
    "    if champ_title == 'Leona':\n",
    "        index = 0\n",
    "        side = \"left\"\n",
    "    else:\n",
    "        index = 1\n",
    "        side = \"right\"\n",
    "    leona_stats = stats[index]\n",
    "    return side, support_role, leona_stats, index"
   ]
  },
  {
   "cell_type": "code",
   "execution_count": 109,
   "id": "3c783891-a12c-4c4e-975d-744d787c7b44",
   "metadata": {},
   "outputs": [],
   "source": [
    "def match_result(gameTable,side):\n",
    "    if side == \"left\":\n",
    "        _ = gameTable.find(\"th\",attrs = {\"class\":\"text-left no-padding-right\"})\n",
    "    else:\n",
    "        _ = gameTable.find(\"th\",attrs = {\"class\":\"text-right no-padding-left\"})\n",
    "    result = _.find_all(\"span\")\n",
    "    return result"
   ]
  },
  {
   "cell_type": "code",
   "execution_count": 110,
   "id": "0b9ea505-1f00-47e5-b5a2-4ed8de284c12",
   "metadata": {},
   "outputs": [],
   "source": [
    "def get_stats(leona_stats):\n",
    "    # Kills, Deaths, Assists\n",
    "    kda = [int(leona_stats.find(\"div\",attrs = {\"class\":\"kda\"}).find('span',attrs = {\"class\":\"kills\"}).text), \n",
    "           int(leona_stats.find(\"div\",attrs = {\"class\":\"kda\"}).find('span',attrs = {\"class\":\"deaths\"}).text),\n",
    "           int(leona_stats.find(\"div\",attrs = {\"class\":\"kda\"}).find('span',attrs = {\"class\":\"assists\"}).text)]\n",
    "\n",
    "    _ = leona_stats.find_all(\"div\",attrs = {\"class\":\"cs\"})\n",
    "\n",
    "    csgold = _[0].text.split('-')\n",
    "    vision = _[1].text.strip().split('-')[1].strip()\n",
    "\n",
    "    cs_gold = [data.strip() for data in csgold]\n",
    "    cs, gold = cs_gold[0],cs_gold[1]\n",
    "    \n",
    "    return kda, cs, gold, vision"
   ]
  },
  {
   "cell_type": "code",
   "execution_count": 111,
   "id": "c889596e-88fc-4e24-9bd7-46a399cbdf5a",
   "metadata": {},
   "outputs": [],
   "source": [
    "def get_items(support, index):\n",
    "    items = support.find(\"td\", attrs = {\"class\":\"itemsColumn itemsColumn-\" + str(index + 1) + \"00\"})\n",
    "    itemlist = [item['alt'] for item in items.find_all(\"img\", attrs = {\"tooltip-class\":\"itemTooltip\"})]\n",
    "    return itemlist"
   ]
  },
  {
   "cell_type": "code",
   "execution_count": 112,
   "id": "146bc86e-4385-4d03-b269-c69e0276370b",
   "metadata": {},
   "outputs": [],
   "source": [
    "def create_dataset(recentGames):\n",
    "    links_matches = []\n",
    "    for i in recentGames:\n",
    "        match_link = i.find(\"td\", attrs = {\"class\":\"resultCellLight text-center\"}).find(\"a\")['href']\n",
    "        links_matches.append(\"https://www.leagueofgraphs.com/\" + match_link)\n",
    "    print(\"Match links obtained\")\n",
    "    print(\"Number of matches found: \",len(links_matches))\n",
    "    column_names = ['kills','deaths','assists','cs','gold','vision','items','result']\n",
    "    dataframe = pd.DataFrame(columns = column_names)\n",
    "    i = 1\n",
    "    print(\"Beginning to access matches and add to dataframe\")\n",
    "    for match in links_matches:\n",
    "        sys.stdout.write(f\"\\rAdding match {i}/{len(links_matches)}\")\n",
    "        sys.stdout.flush()\n",
    "        \n",
    "        gameTable = return_game_table(match)\n",
    "        \n",
    "        side, support_role, leona_stats, index = find_leona(gameTable)\n",
    "        \n",
    "        if match_result(gameTable,side)[0].text.isalpha():\n",
    "            result = match_result(gameTable,side)[0].text\n",
    "        else:\n",
    "            result = match_result(gameTable,side)[1].text\n",
    "        kda, cs, gold, vision = get_stats(leona_stats)\n",
    "        \n",
    "        \n",
    "        items = get_items(support_role, index)\n",
    "        \n",
    "        if result == \"Defeat\":\n",
    "            game_result = 0\n",
    "        else:\n",
    "            game_result = 1\n",
    "        gold_earned = gold.split(' ')[0]\n",
    "        if 'k' in gold_earned:\n",
    "            gold_int = int(float(gold_earned.split('k')[0]) * 1000)\n",
    "        dataframe.loc[len(dataframe)] = [kda[0],kda[1],kda[2],int(cs.split(' ')[0]),gold_int,int(vision.split(' ')[1]),items,game_result]\n",
    "        i+=1\n",
    "        \n",
    "    print(\"\\nAdded all matches\")\n",
    "    print(\"Saving data to league_matches.csv\")\n",
    "    dataframe.to_csv(\"league_matches.csv\")"
   ]
  },
  {
   "cell_type": "code",
   "execution_count": 113,
   "id": "7f0b3a21-785b-41ba-8c10-b6641b383270",
   "metadata": {},
   "outputs": [
    {
     "name": "stdout",
     "output_type": "stream",
     "text": [
      "Match links obtained\n",
      "Number of matches found:  77\n",
      "Beginning to access matches and add to dataframe\n",
      "Adding match 77/77\n",
      "Added all matches\n",
      "Saving data to league_matches.csv\n"
     ]
    }
   ],
   "source": [
    "create_dataset(recentGamesList)"
   ]
  }
 ],
 "metadata": {
  "kernelspec": {
   "display_name": "Python (PyCharm .venv)",
   "language": "python",
   "name": "pycharm-venv"
  },
  "language_info": {
   "codemirror_mode": {
    "name": "ipython",
    "version": 3
   },
   "file_extension": ".py",
   "mimetype": "text/x-python",
   "name": "python",
   "nbconvert_exporter": "python",
   "pygments_lexer": "ipython3",
   "version": "3.12.3"
  }
 },
 "nbformat": 4,
 "nbformat_minor": 5
}
